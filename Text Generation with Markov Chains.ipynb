{
  "nbformat": 4,
  "nbformat_minor": 0,
  "metadata": {
    "colab": {
      "provenance": [],
      "authorship_tag": "ABX9TyMGEba6pLWV93gF7u7a4OKy",
      "include_colab_link": true
    },
    "kernelspec": {
      "name": "python3",
      "display_name": "Python 3"
    },
    "language_info": {
      "name": "python"
    }
  },
  "cells": [
    {
      "cell_type": "markdown",
      "metadata": {
        "id": "view-in-github",
        "colab_type": "text"
      },
      "source": [
        "<a href=\"https://colab.research.google.com/github/Vishnu-916/PRODIGY_GA_03/blob/main/Text%20Generation%20with%20Markov%20Chains.ipynb\" target=\"_parent\"><img src=\"https://colab.research.google.com/assets/colab-badge.svg\" alt=\"Open In Colab\"/></a>"
      ]
    },
    {
      "cell_type": "code",
      "execution_count": 2,
      "metadata": {
        "id": "xIe_ycsoVfxz",
        "colab": {
          "base_uri": "https://localhost:8080/"
        },
        "outputId": "dd0a657d-1ad4-44d5-ac5f-d9526ae9fd2c"
      },
      "outputs": [
        {
          "output_type": "stream",
          "name": "stdout",
          "text": [
            "Generated text:\n",
            "\n",
            "They predict the next word based on the previous words. This allows for generating random but somewhat coherent sentences that resemble the training text.\n"
          ]
        }
      ],
      "source": [
        "import random\n",
        "from collections import defaultdict\n",
        "\n",
        "class MarkovChainTextGenerator:\n",
        "    def __init__(self, n=2):\n",
        "        self.n = n\n",
        "        self.model = defaultdict(list)\n",
        "\n",
        "    def train(self, text):\n",
        "        words = text.split()\n",
        "        for i in range(len(words) - self.n):\n",
        "            prefix = tuple(words[i:i+self.n])\n",
        "            next_word = words[i+self.n]\n",
        "            self.model[prefix].append(next_word)\n",
        "\n",
        "    def generate(self, length=50):\n",
        "        # Pick a random starting point\n",
        "        start = random.choice(list(self.model.keys()))\n",
        "        output = list(start)\n",
        "\n",
        "        for _ in range(length - self.n):\n",
        "            prefix = tuple(output[-self.n:])\n",
        "            next_words = self.model.get(prefix)\n",
        "            if not next_words:\n",
        "                break\n",
        "            next_word = random.choice(next_words)\n",
        "            output.append(next_word)\n",
        "\n",
        "        return ' '.join(output)\n",
        "\n",
        "sample_text = \"\"\"\n",
        "Markov chains are useful for text generation. They predict the next word based on the previous words.\n",
        "This allows for generating random but somewhat coherent sentences that resemble the training text.\n",
        "\"\"\"\n",
        "\n",
        "generator = MarkovChainTextGenerator(n=2)\n",
        "generator.train(sample_text)\n",
        "\n",
        "print(\"Generated text:\\n\")\n",
        "print(generator.generate(30))\n"
      ]
    }
  ]
}